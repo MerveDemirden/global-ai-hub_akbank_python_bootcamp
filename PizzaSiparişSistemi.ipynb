{
  "nbformat": 4,
  "nbformat_minor": 0,
  "metadata": {
    "colab": {
      "provenance": [],
      "authorship_tag": "ABX9TyMVa7YKvT9jF7h5nTcy36ys",
      "include_colab_link": true
    },
    "kernelspec": {
      "name": "python3",
      "display_name": "Python 3"
    },
    "language_info": {
      "name": "python"
    }
  },
  "cells": [
    {
      "cell_type": "markdown",
      "metadata": {
        "id": "view-in-github",
        "colab_type": "text"
      },
      "source": [
        "<a href=\"https://colab.research.google.com/github/MerveDemirden/global-ai-hub_akbank_python_bootcamp/blob/main/PizzaSipari%C5%9FSistemi.ipynb\" target=\"_parent\"><img src=\"https://colab.research.google.com/assets/colab-badge.svg\" alt=\"Open In Colab\"/></a>"
      ]
    },
    {
      "cell_type": "code",
      "execution_count": null,
      "metadata": {
        "id": "M4mxAhtXURuT"
      },
      "outputs": [],
      "source": [
        "#Gerekli kitaplıkların içe aktarılması \n",
        "import csv \n",
        "from datetime import datetime\n",
        "import datetime "
      ]
    },
    {
      "cell_type": "code",
      "source": [
        "#Menüyü göstermek için menu.txt dosyasının okutulması\n",
        "def readMenu():\n",
        "    with open('Menu.txt', 'r') as f:\n",
        "        for line in f:\n",
        "            print(line, end='')"
      ],
      "metadata": {
        "id": "xeSP4XHTUYnK"
      },
      "execution_count": null,
      "outputs": []
    },
    {
      "cell_type": "code",
      "source": [
        "# \"Pizza\" üst sınıfının tanımlanması ve gerekli methodların eklenmesi\n",
        "class Pizza:\n",
        "    def __init__(self, cost, description):\n",
        "        self.cost = cost\n",
        "        self.description = description\n",
        "       \n",
        "     \n",
        "    def get_description(self):\n",
        "        return self.description\n",
        "\n",
        "    def get_cost(self):\n",
        "        return self.cost"
      ],
      "metadata": {
        "id": "z4xvSZ5RUdVK"
      },
      "execution_count": null,
      "outputs": []
    },
    {
      "cell_type": "code",
      "source": [
        "#\"Pizza\" üst sınıfının alt sınıflarını tanımlama. \n",
        "class Klasik(Pizza):\n",
        "      def __init__(self):\n",
        "        self.description = 'İçindekiler: Mantar, Kaşar Peyniri, Domates, Sucuk, Salam ve Sosis '\n",
        "        self.cost = 125.00\n",
        "\n",
        "class Margarita(Pizza):\n",
        "     def __init__(self):\n",
        "        self.description = 'İçindekiler: Domates, Mozzarella Peyniri, Taze Fesleğen Yaprakları, Zeytinyağı, Sarımsak '\n",
        "        self.cost = 115.00\n",
        "\n",
        "class Turk(Pizza):\n",
        "    def __init__(self):\n",
        "        self.description = 'İçindekiler: Kıyma, Sucuk, Domates, Biber, Soğan ve Kaşar '\n",
        "        self.cost = 110.00\n",
        "\n",
        "class Sade(Pizza):\n",
        "    def __init__(self):\n",
        "        self.description = 'İçindekiler: Domates, Cheddar Peyniri ve Zeytin '\n",
        "        self.cost = 95.00"
      ],
      "metadata": {
        "id": "Y9Q-lapUUkLR"
      },
      "execution_count": null,
      "outputs": []
    },
    {
      "cell_type": "code",
      "source": [
        "#Tüm sos sınıflarının süper sınıfı olan Decorator üst sınıfının oluşturulması \n",
        "class Decorator(Pizza):\n",
        "  def __init__(self, sos):\n",
        "          self.sos = sos\n",
        "\n",
        "  def get_description(self):\n",
        "          return self.sos.get_description() + ', ' + Pizza.get_description(self)\n",
        "\n",
        "  def get_cost(self):\n",
        "           return self.sos.get_cost() + Pizza.get_cost(self)"
      ],
      "metadata": {
        "id": "2kl5CrFzUr9x"
      },
      "execution_count": null,
      "outputs": []
    },
    {
      "cell_type": "code",
      "source": [
        "#Decorator üst sınıfının alt sınıfları olan sosların oluşturulması.\n",
        "\n",
        "class Zeytin(Decorator):\n",
        "    def __init__(self, sos):\n",
        "       super().__init__(sos)\n",
        "       self.description = 'Zeytin'\n",
        "       self.cost = 3.50\n",
        "\n",
        "class Mantar(Decorator):\n",
        "   def __init__(self, sos):\n",
        "       super().__init__(sos)\n",
        "       self.description = 'Mantar'\n",
        "       self.cost = 5.00\n",
        "\n",
        "class KeciPeyniri(Decorator):\n",
        "    def __init__(self, sos):\n",
        "       super().__init__(sos)\n",
        "       self.description = 'Keçi Peyniri'\n",
        "       self.cost = 6.00\n",
        "\n",
        "class Et(Decorator):\n",
        "    def __init__(self, sos):\n",
        "       super().__init__(sos)\n",
        "       self.description = 'Et'\n",
        "       self.cost = 9.00\n",
        "\n",
        "class Sogan(Decorator):\n",
        "    def __init__(self, sos):\n",
        "       super().__init__(sos)\n",
        "       self.description = 'Soğan'\n",
        "       self.cost = 2.50\n",
        "\n",
        "class Misir(Decorator):\n",
        "    def __init__(self, sos):\n",
        "       super().__init__(soslar)\n",
        "       self.description = 'Misir'\n",
        "       self.cost = 5.00"
      ],
      "metadata": {
        "id": "KC5xWv4-U0h6"
      },
      "execution_count": null,
      "outputs": []
    },
    {
      "cell_type": "code",
      "source": [
        "# Menünün ekrana yazdırılması\n",
        "\n",
        "def main():\n",
        "    with open(\"Menu.txt\", \"r\") as menu:\n",
        "        for i in menu:\n",
        "            print(i, end=\"\")\n",
        "\n",
        "    class_dict = {1: Klasik,\n",
        "                  2: Margarita,\n",
        "                  3: Turk,\n",
        "                  4: Sade,\n",
        "                  11: Zeytin,\n",
        "                  12: Mantar,\n",
        "                  13: KeciPeyniri,\n",
        "                  14: Et,\n",
        "                  15: Sogan,\n",
        "                  16: Misir}\n",
        "\n",
        "    button = input(\"Lütfen Pizzanızı Seçiniz: \")\n",
        "    while button not in [\"1\", \"2\", \"3\", \"4\"]:\n",
        "        button = input(\"Lütfen geçerli bir sayı girin: \")\n",
        "\n",
        "    order = class_dict[int(button)]()\n",
        "\n",
        "    while button != \"t\":\n",
        "        button = input(\n",
        "            \"Fazladan malzeme almak istiyorsanız lütfen numara giriniz. Almak istemezseniz siparişinizi Onaylamak için 't' tuşuna basınız: \")\n",
        "        if button in [\"11\", \"12\", \"13\", \"14\", \"15\", \"16\"]:\n",
        "            order = class_dict[int(button)](order)\n",
        "\n",
        "    print(\"\\n\" + order.get_description().strip() + \" - Ödenmesi gereken toplam tutar: \" + str(order.get_cost()) + ' TL')\n",
        "    print(\"\\n\")"
      ],
      "metadata": {
        "id": "rv-lf-7KU-Uh"
      },
      "execution_count": null,
      "outputs": []
    },
    {
      "cell_type": "code",
      "source": [
        "# Kullanıcının veritabanına kaydedilmesi\n",
        "\n",
        "    print(\"          KULLANICI BİLGİLERİ          \\n\")\n",
        "    name = input(\"İsim: \")\n",
        "    TC = input(\"TC Kimlik Numarası: \")\n",
        "    cc_no = input(\"Kredi Kartı Numarası: \")\n",
        "    cc_pass = input(\"Kredi Kartı Şifresi: \")\n",
        "    time = datetime.datetime.now()\n",
        "\n",
        "    with open('Orders_Database.csv', 'a') as orders:\n",
        "        orders = csv.writer(orders, delimiter=',')\n",
        "        orders.writerow([name, TC, cc_no, cc_pass, order.get_description(), time])\n",
        "    print(\"\\nSiparişiniz Onaylandı.\\n\\nBizi Tercih Ettiğiniz İçin Teşekkür ederiz!\")\n",
        "\n",
        "\n",
        "main()"
      ],
      "metadata": {
        "id": "C87w3DN5U_yp"
      },
      "execution_count": null,
      "outputs": []
    }
  ]
}